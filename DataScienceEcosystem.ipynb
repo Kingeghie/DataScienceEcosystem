{
 "cells": [
  {
   "cell_type": "markdown",
   "id": "0a6cc7ab",
   "metadata": {},
   "source": [
    "# Data Science Tools and Ecosystem "
   ]
  },
  {
   "cell_type": "markdown",
   "id": "3a8ec579",
   "metadata": {},
   "source": [
    "In this notebook, Data Science Tools and Ecosystem are summarized."
   ]
  },
  {
   "cell_type": "markdown",
   "id": "72131089",
   "metadata": {},
   "source": [
    "*Objectives:*\n",
    "- List Polular languages for Data Science\n",
    "- List Commonly used Libraries by Data Sceintist\n",
    "- Create a Table\n",
    "- Basic Arithemetic in python\n",
    "- Conversion of 200 minutes to Hours"
   ]
  },
  {
   "cell_type": "markdown",
   "id": "2ff51940",
   "metadata": {},
   "source": [
    "Some of the popular languages that Data Scientist use are:\n",
    "1. Python\n",
    "2. R\n",
    "3. SQL\n",
    "4. Java\n",
    "5. Julia\n",
    "6. Scala\n",
    "7. Javascript\n",
    "8. Swift\n",
    "9. Go\n",
    "10. Matlab"
   ]
  },
  {
   "cell_type": "markdown",
   "id": "c02bd30c",
   "metadata": {},
   "source": [
    "Some of the commonly used libraries used by Data Scientist include:\n",
    "\n",
    "1. Tensorflow\n",
    "2. Numpy\n",
    "3. Scipy\n",
    "4. Pandas\n",
    "5. Keras"
   ]
  },
  {
   "cell_type": "markdown",
   "id": "9966b2a6",
   "metadata": {},
   "source": [
    "| Data Science Tools |\n",
    "| :---- |\n",
    "| RStudio |\n",
    "| Apache Spark |\n",
    "| TensorFlow |\n",
    "| Apache Hadoop |"
   ]
  },
  {
   "cell_type": "markdown",
   "id": "00840dad",
   "metadata": {},
   "source": [
    "### Below are a few examples of evaluating arithemetic expression in Python"
   ]
  },
  {
   "cell_type": "code",
   "execution_count": 3,
   "id": "859d4c8e",
   "metadata": {},
   "outputs": [
    {
     "data": {
      "text/plain": [
       "17"
      ]
     },
     "execution_count": 3,
     "metadata": {},
     "output_type": "execute_result"
    }
   ],
   "source": [
    "# This a simple arithmetic expression to mutiply then add integers\n",
    "\n",
    "(3*4)+5"
   ]
  },
  {
   "cell_type": "code",
   "execution_count": null,
   "id": "21f2f271",
   "metadata": {},
   "outputs": [],
   "source": [
    "# This will convert 200 minutes to hours by diving by 60"
   ]
  },
  {
   "cell_type": "code",
   "execution_count": 6,
   "id": "b28f51f4",
   "metadata": {},
   "outputs": [
    {
     "name": "stdout",
     "output_type": "stream",
     "text": [
      "3.33\n"
     ]
    }
   ],
   "source": [
    "minutes = 200\n",
    "hours = minutes / 60\n",
    "rounded_hours = round(hours, 2)\n",
    "print(rounded_hours)\n"
   ]
  },
  {
   "cell_type": "markdown",
   "id": "ee151c8a",
   "metadata": {},
   "source": [
    "## Author \n",
    "Elisha Oreunomhe"
   ]
  }
 ],
 "metadata": {
  "kernelspec": {
   "display_name": "Python 3 (ipykernel)",
   "language": "python",
   "name": "python3"
  },
  "language_info": {
   "codemirror_mode": {
    "name": "ipython",
    "version": 3
   },
   "file_extension": ".py",
   "mimetype": "text/x-python",
   "name": "python",
   "nbconvert_exporter": "python",
   "pygments_lexer": "ipython3",
   "version": "3.10.9"
  }
 },
 "nbformat": 4,
 "nbformat_minor": 5
}
